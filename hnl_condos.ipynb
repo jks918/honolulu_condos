{
 "cells": [
  {
   "cell_type": "markdown",
   "metadata": {},
   "source": [
    "# Honolulu Condos: Exploratory Data Analysis & Visualization\n",
    "\n",
    "This notebook details the steps taken to conduct an exploratory analysis on a dataset of select Honolulu condos in order to analyze any trends. "
   ]
  },
  {
   "cell_type": "code",
   "execution_count": 78,
   "metadata": {},
   "outputs": [],
   "source": [
    "#First begin by importing the following libraries to conduct the analysis and create visualizations:\n",
    "\n",
    "import numpy as np\n",
    "import pandas as pd\n",
    "import matplotlib.pyplot as plt\n",
    "import seaborn as sns"
   ]
  },
  {
   "cell_type": "code",
   "execution_count": 79,
   "metadata": {},
   "outputs": [
    {
     "data": {
      "text/html": [
       "<div>\n",
       "<style scoped>\n",
       "    .dataframe tbody tr th:only-of-type {\n",
       "        vertical-align: middle;\n",
       "    }\n",
       "\n",
       "    .dataframe tbody tr th {\n",
       "        vertical-align: top;\n",
       "    }\n",
       "\n",
       "    .dataframe thead th {\n",
       "        text-align: right;\n",
       "    }\n",
       "</style>\n",
       "<table border=\"1\" class=\"dataframe\">\n",
       "  <thead>\n",
       "    <tr style=\"text-align: right;\">\n",
       "      <th></th>\n",
       "      <th>name</th>\n",
       "      <th>location.latitude</th>\n",
       "      <th>location.longitude</th>\n",
       "      <th>Number of Floors</th>\n",
       "      <th>Status</th>\n",
       "      <th>Year Built</th>\n",
       "      <th>Height in feet</th>\n",
       "      <th>Number of Units</th>\n",
       "    </tr>\n",
       "  </thead>\n",
       "  <tbody>\n",
       "    <tr>\n",
       "      <th>0</th>\n",
       "      <td>1001 Wilder</td>\n",
       "      <td>21.309074</td>\n",
       "      <td>-157.842955</td>\n",
       "      <td>17</td>\n",
       "      <td>completed</td>\n",
       "      <td>1964.0</td>\n",
       "      <td>132</td>\n",
       "      <td>68</td>\n",
       "    </tr>\n",
       "    <tr>\n",
       "      <th>1</th>\n",
       "      <td>1010 Wilder</td>\n",
       "      <td>21.309229</td>\n",
       "      <td>-157.842077</td>\n",
       "      <td>18</td>\n",
       "      <td>completed</td>\n",
       "      <td>1974.0</td>\n",
       "      <td>183</td>\n",
       "      <td>42</td>\n",
       "    </tr>\n",
       "    <tr>\n",
       "      <th>2</th>\n",
       "      <td>1015 Wilder I</td>\n",
       "      <td>21.308596</td>\n",
       "      <td>-157.842613</td>\n",
       "      <td>12</td>\n",
       "      <td>completed</td>\n",
       "      <td>1988.0</td>\n",
       "      <td>122</td>\n",
       "      <td>58</td>\n",
       "    </tr>\n",
       "    <tr>\n",
       "      <th>3</th>\n",
       "      <td>1015 Wilder II</td>\n",
       "      <td>21.308596</td>\n",
       "      <td>-157.842613</td>\n",
       "      <td>12</td>\n",
       "      <td>completed</td>\n",
       "      <td>1988.0</td>\n",
       "      <td>122</td>\n",
       "      <td>58</td>\n",
       "    </tr>\n",
       "    <tr>\n",
       "      <th>4</th>\n",
       "      <td>1133 Waimanu</td>\n",
       "      <td>21.294751</td>\n",
       "      <td>-157.850361</td>\n",
       "      <td>26</td>\n",
       "      <td>completed</td>\n",
       "      <td>1996.0</td>\n",
       "      <td>264</td>\n",
       "      <td>282</td>\n",
       "    </tr>\n",
       "    <tr>\n",
       "      <th>...</th>\n",
       "      <td>...</td>\n",
       "      <td>...</td>\n",
       "      <td>...</td>\n",
       "      <td>...</td>\n",
       "      <td>...</td>\n",
       "      <td>...</td>\n",
       "      <td>...</td>\n",
       "      <td>...</td>\n",
       "    </tr>\n",
       "    <tr>\n",
       "      <th>130</th>\n",
       "      <td>Waikiki Shore</td>\n",
       "      <td>21.278579</td>\n",
       "      <td>-157.833036</td>\n",
       "      <td>15</td>\n",
       "      <td>completed</td>\n",
       "      <td>1960.0</td>\n",
       "      <td>152</td>\n",
       "      <td>0</td>\n",
       "    </tr>\n",
       "    <tr>\n",
       "      <th>131</th>\n",
       "      <td>Waikiki Sunset</td>\n",
       "      <td>21.274375</td>\n",
       "      <td>-157.820542</td>\n",
       "      <td>37</td>\n",
       "      <td>completed</td>\n",
       "      <td>1979.0</td>\n",
       "      <td>341</td>\n",
       "      <td>435</td>\n",
       "    </tr>\n",
       "    <tr>\n",
       "      <th>132</th>\n",
       "      <td>Waipuna Apartments</td>\n",
       "      <td>21.286874</td>\n",
       "      <td>-157.834585</td>\n",
       "      <td>38</td>\n",
       "      <td>completed</td>\n",
       "      <td>1971.0</td>\n",
       "      <td>343</td>\n",
       "      <td>406</td>\n",
       "    </tr>\n",
       "    <tr>\n",
       "      <th>133</th>\n",
       "      <td>Yacht Harbor Tower I</td>\n",
       "      <td>21.288620</td>\n",
       "      <td>-157.839706</td>\n",
       "      <td>40</td>\n",
       "      <td>completed</td>\n",
       "      <td>1973.0</td>\n",
       "      <td>350</td>\n",
       "      <td>459</td>\n",
       "    </tr>\n",
       "    <tr>\n",
       "      <th>134</th>\n",
       "      <td>Yacht Harbor Tower II</td>\n",
       "      <td>21.289061</td>\n",
       "      <td>-157.840653</td>\n",
       "      <td>40</td>\n",
       "      <td>completed</td>\n",
       "      <td>1973.0</td>\n",
       "      <td>351</td>\n",
       "      <td>459</td>\n",
       "    </tr>\n",
       "  </tbody>\n",
       "</table>\n",
       "<p>135 rows × 8 columns</p>\n",
       "</div>"
      ],
      "text/plain": [
       "                      name  location.latitude  location.longitude  \\\n",
       "0              1001 Wilder          21.309074         -157.842955   \n",
       "1              1010 Wilder          21.309229         -157.842077   \n",
       "2            1015 Wilder I          21.308596         -157.842613   \n",
       "3           1015 Wilder II          21.308596         -157.842613   \n",
       "4             1133 Waimanu          21.294751         -157.850361   \n",
       "..                     ...                ...                 ...   \n",
       "130          Waikiki Shore          21.278579         -157.833036   \n",
       "131         Waikiki Sunset          21.274375         -157.820542   \n",
       "132     Waipuna Apartments          21.286874         -157.834585   \n",
       "133   Yacht Harbor Tower I          21.288620         -157.839706   \n",
       "134  Yacht Harbor Tower II          21.289061         -157.840653   \n",
       "\n",
       "     Number of Floors     Status  Year Built  Height in feet  Number of Units  \n",
       "0                  17  completed      1964.0             132               68  \n",
       "1                  18  completed      1974.0             183               42  \n",
       "2                  12  completed      1988.0             122               58  \n",
       "3                  12  completed      1988.0             122               58  \n",
       "4                  26  completed      1996.0             264              282  \n",
       "..                ...        ...         ...             ...              ...  \n",
       "130                15  completed      1960.0             152                0  \n",
       "131                37  completed      1979.0             341              435  \n",
       "132                38  completed      1971.0             343              406  \n",
       "133                40  completed      1973.0             350              459  \n",
       "134                40  completed      1973.0             351              459  \n",
       "\n",
       "[135 rows x 8 columns]"
      ]
     },
     "execution_count": 79,
     "metadata": {},
     "output_type": "execute_result"
    }
   ],
   "source": [
    "#Then read the CSV file to get a better picture of the data:\n",
    "\n",
    "condos = pd.read_csv(\"hnl_condos.csv\", encoding= 'unicode_escape')\n",
    "condos"
   ]
  },
  {
   "cell_type": "code",
   "execution_count": 80,
   "metadata": {},
   "outputs": [
    {
     "name": "stdout",
     "output_type": "stream",
     "text": [
      "condos missing data:\n",
      "name                  0\n",
      "location.latitude     0\n",
      "location.longitude    0\n",
      "Number of Floors      0\n",
      "Status                0\n",
      "Year Built            1\n",
      "Height in feet        0\n",
      "Number of Units       0\n",
      "dtype: int64\n"
     ]
    }
   ],
   "source": [
    "#Check for missing values:\n",
    "\n",
    "print('condos missing data:')\n",
    "print(condos.isnull().sum())"
   ]
  },
  {
   "cell_type": "code",
   "execution_count": 81,
   "metadata": {},
   "outputs": [
    {
     "data": {
      "text/plain": [
       "name                   object\n",
       "location.latitude     float64\n",
       "location.longitude    float64\n",
       "Number of Floors        int64\n",
       "Status                 object\n",
       "Year Built            float64\n",
       "Height in feet          int64\n",
       "Number of Units         int64\n",
       "dtype: object"
      ]
     },
     "execution_count": 81,
     "metadata": {},
     "output_type": "execute_result"
    }
   ],
   "source": [
    "#Check data types:\n",
    "\n",
    "df = condos\n",
    "df.dtypes"
   ]
  },
  {
   "cell_type": "code",
   "execution_count": 82,
   "metadata": {},
   "outputs": [
    {
     "data": {
      "text/html": [
       "<div>\n",
       "<style scoped>\n",
       "    .dataframe tbody tr th:only-of-type {\n",
       "        vertical-align: middle;\n",
       "    }\n",
       "\n",
       "    .dataframe tbody tr th {\n",
       "        vertical-align: top;\n",
       "    }\n",
       "\n",
       "    .dataframe thead th {\n",
       "        text-align: right;\n",
       "    }\n",
       "</style>\n",
       "<table border=\"1\" class=\"dataframe\">\n",
       "  <thead>\n",
       "    <tr style=\"text-align: right;\">\n",
       "      <th></th>\n",
       "      <th>location.latitude</th>\n",
       "      <th>location.longitude</th>\n",
       "      <th>Number of Floors</th>\n",
       "      <th>Year Built</th>\n",
       "      <th>Height in feet</th>\n",
       "      <th>Number of Units</th>\n",
       "    </tr>\n",
       "  </thead>\n",
       "  <tbody>\n",
       "    <tr>\n",
       "      <th>count</th>\n",
       "      <td>135.000000</td>\n",
       "      <td>135.000000</td>\n",
       "      <td>135.000000</td>\n",
       "      <td>134.000000</td>\n",
       "      <td>135.000000</td>\n",
       "      <td>135.000000</td>\n",
       "    </tr>\n",
       "    <tr>\n",
       "      <th>mean</th>\n",
       "      <td>21.288814</td>\n",
       "      <td>-155.500589</td>\n",
       "      <td>28.725926</td>\n",
       "      <td>1971.843284</td>\n",
       "      <td>274.133333</td>\n",
       "      <td>287.622222</td>\n",
       "    </tr>\n",
       "    <tr>\n",
       "      <th>std</th>\n",
       "      <td>0.014993</td>\n",
       "      <td>27.169813</td>\n",
       "      <td>13.203024</td>\n",
       "      <td>172.884805</td>\n",
       "      <td>122.627868</td>\n",
       "      <td>223.596113</td>\n",
       "    </tr>\n",
       "    <tr>\n",
       "      <th>min</th>\n",
       "      <td>21.257925</td>\n",
       "      <td>-157.864334</td>\n",
       "      <td>0.000000</td>\n",
       "      <td>0.000000</td>\n",
       "      <td>0.000000</td>\n",
       "      <td>0.000000</td>\n",
       "    </tr>\n",
       "    <tr>\n",
       "      <th>25%</th>\n",
       "      <td>21.282001</td>\n",
       "      <td>-157.851723</td>\n",
       "      <td>17.000000</td>\n",
       "      <td>1970.250000</td>\n",
       "      <td>167.000000</td>\n",
       "      <td>93.500000</td>\n",
       "    </tr>\n",
       "    <tr>\n",
       "      <th>50%</th>\n",
       "      <td>21.290676</td>\n",
       "      <td>-157.838196</td>\n",
       "      <td>33.000000</td>\n",
       "      <td>1979.500000</td>\n",
       "      <td>320.000000</td>\n",
       "      <td>251.000000</td>\n",
       "    </tr>\n",
       "    <tr>\n",
       "      <th>75%</th>\n",
       "      <td>21.299483</td>\n",
       "      <td>-157.825737</td>\n",
       "      <td>40.000000</td>\n",
       "      <td>2007.000000</td>\n",
       "      <td>381.000000</td>\n",
       "      <td>410.000000</td>\n",
       "    </tr>\n",
       "    <tr>\n",
       "      <th>max</th>\n",
       "      <td>21.314512</td>\n",
       "      <td>157.845664</td>\n",
       "      <td>48.000000</td>\n",
       "      <td>2023.000000</td>\n",
       "      <td>436.000000</td>\n",
       "      <td>1011.000000</td>\n",
       "    </tr>\n",
       "  </tbody>\n",
       "</table>\n",
       "</div>"
      ],
      "text/plain": [
       "       location.latitude  location.longitude  Number of Floors   Year Built  \\\n",
       "count         135.000000          135.000000        135.000000   134.000000   \n",
       "mean           21.288814         -155.500589         28.725926  1971.843284   \n",
       "std             0.014993           27.169813         13.203024   172.884805   \n",
       "min            21.257925         -157.864334          0.000000     0.000000   \n",
       "25%            21.282001         -157.851723         17.000000  1970.250000   \n",
       "50%            21.290676         -157.838196         33.000000  1979.500000   \n",
       "75%            21.299483         -157.825737         40.000000  2007.000000   \n",
       "max            21.314512          157.845664         48.000000  2023.000000   \n",
       "\n",
       "       Height in feet  Number of Units  \n",
       "count      135.000000       135.000000  \n",
       "mean       274.133333       287.622222  \n",
       "std        122.627868       223.596113  \n",
       "min          0.000000         0.000000  \n",
       "25%        167.000000        93.500000  \n",
       "50%        320.000000       251.000000  \n",
       "75%        381.000000       410.000000  \n",
       "max        436.000000      1011.000000  "
      ]
     },
     "execution_count": 82,
     "metadata": {},
     "output_type": "execute_result"
    }
   ],
   "source": [
    "#Statistical summaries of numeric values:\n",
    "\n",
    "df.describe()"
   ]
  },
  {
   "cell_type": "code",
   "execution_count": 71,
   "metadata": {},
   "outputs": [
    {
     "data": {
      "text/plain": [
       "Text(0, 0.5, '')"
      ]
     },
     "execution_count": 71,
     "metadata": {},
     "output_type": "execute_result"
    },
    {
     "data": {
      "image/png": "[encoded data removed]",
      "text/plain": [
       "<Figure size 432x288 with 1 Axes>"
      ]
     },
     "metadata": {
      "needs_background": "light"
     },
     "output_type": "display_data"
    }
   ],
   "source": [
    "plot_df = condos\n",
    "plot_data = plot_df.groupby('name')['Number of Units'].sum()\n",
    "plot_data.sort_values()[-10:].plot(kind='bar')\n",
    "plt.title(\"Condos with most units\")\n",
    "plt.ylabel(\"\")"
   ]
  },
  {
   "cell_type": "markdown",
   "metadata": {},
   "source": [
    "Looking at the top ten condos with the most units, the Ilikai Apartments contain the most number of units. It is actually one of the oldest condos in the dataset, built in 1963. The newest development is the A'ali'i, which is part of the Ward Village project from the Howard Hughes Corporation. It is interesting to note that most of the top ten were actually built much earlier, suggesting that new condo trends are not providing as many units as it did before. Perhaps this is to accommodate and make space for other features and amenities (such as pools, gyms, etc.), which may be what buyers are looking for."
   ]
  },
  {
   "cell_type": "code",
   "execution_count": 87,
   "metadata": {},
   "outputs": [
    {
     "data": {
      "text/plain": [
       "Text(0, 0.5, '')"
      ]
     },
     "execution_count": 87,
     "metadata": {},
     "output_type": "execute_result"
    },
    {
     "data": {
      "image/png": "[encoded data removed]",
      "text/plain": [
       "<Figure size 432x288 with 1 Axes>"
      ]
     },
     "metadata": {
      "needs_background": "light"
     },
     "output_type": "display_data"
    }
   ],
   "source": [
    "plot_df = condos\n",
    "plot_data = plot_df.groupby('name')['Height in feet'].sum()\n",
    "plot_data.sort_values()[-10:].plot(kind='bar')\n",
    "plt.title(\"Tallest Condos\")\n",
    "plt.ylabel(\"\")"
   ]
  },
  {
   "cell_type": "code",
   "execution_count": 88,
   "metadata": {},
   "outputs": [
    {
     "data": {
      "text/plain": [
       "Text(0, 0.5, '')"
      ]
     },
     "execution_count": 88,
     "metadata": {},
     "output_type": "execute_result"
    },
    {
     "data": {
      "image/png": "[encoded data removed]",
      "text/plain": [
       "<Figure size 432x288 with 1 Axes>"
      ]
     },
     "metadata": {
      "needs_background": "light"
     },
     "output_type": "display_data"
    }
   ],
   "source": [
    "plot_df = condos\n",
    "plot_data = plot_df.groupby('name')['Number of Floors'].sum()\n",
    "plot_data.sort_values()[-10:].plot(kind='bar')\n",
    "plt.title(\"Condos with most Floors\")\n",
    "plt.ylabel(\"\")"
   ]
  },
  {
   "cell_type": "markdown",
   "metadata": {},
   "source": [
    "However, the situation is different when we look at the top ten condos by height in feet and number of floors. We see almost a reversal from the previous graph as only newer developments are represented here. Condo heights also averaged around the 400 feet mark. There are city mandates in place that restrict the height of new developments, which may help to explain why these new condos are about the same height. However, there also appears to be exceptions to this rule depending on where new developments are occurring and whether it meets other criteria.\n",
    "\n",
    "Condos also rely heavily on selling a \"view\" in addition to the unit itself. In Honolulu, ocean views are prime with mountain views next in line. These new developments may also be competing with one another in order ensure these premium views to buyers and, therefore, must also be taller or as tall as other developments. The future of whether newer developments down the line, say in twenty years or so, can also still sell an ocean view remains unclear."
   ]
  },
  {
   "cell_type": "code",
   "execution_count": 74,
   "metadata": {},
   "outputs": [
    {
     "data": {
      "text/plain": [
       "1976.0    8\n",
       "1974.0    7\n",
       "1990.0    6\n",
       "2022.0    5\n",
       "1979.0    5\n",
       "2017.0    5\n",
       "2007.0    4\n",
       "2016.0    4\n",
       "2008.0    4\n",
       "1984.0    4\n",
       "1970.0    4\n",
       "1964.0    4\n",
       "1971.0    4\n",
       "1978.0    3\n",
       "1980.0    3\n",
       "2005.0    3\n",
       "2021.0    3\n",
       "1956.0    3\n",
       "1960.0    3\n",
       "1961.0    3\n",
       "1957.0    3\n",
       "1968.0    3\n",
       "1959.0    2\n",
       "1977.0    2\n",
       "1963.0    2\n",
       "1962.0    2\n",
       "1973.0    2\n",
       "1988.0    2\n",
       "2015.0    2\n",
       "2009.0    2\n",
       "1993.0    2\n",
       "1999.0    2\n",
       "2014.0    2\n",
       "2018.0    2\n",
       "1975.0    2\n",
       "1958.0    1\n",
       "1996.0    1\n",
       "1966.0    1\n",
       "1997.0    1\n",
       "2010.0    1\n",
       "1987.0    1\n",
       "1953.0    1\n",
       "2023.0    1\n",
       "1994.0    1\n",
       "1983.0    1\n",
       "2006.0    1\n",
       "0.0       1\n",
       "1969.0    1\n",
       "2011.0    1\n",
       "1989.0    1\n",
       "2019.0    1\n",
       "1982.0    1\n",
       "Name: Year Built, dtype: int64"
      ]
     },
     "execution_count": 74,
     "metadata": {},
     "output_type": "execute_result"
    }
   ],
   "source": [
    "df['Year Built'].value_counts()"
   ]
  },
  {
   "cell_type": "code",
   "execution_count": 77,
   "metadata": {},
   "outputs": [
    {
     "data": {
      "text/plain": [
       "(array([ 0,  1,  2,  3,  4,  5,  6,  7,  8,  9, 10, 11, 12, 13, 14, 15, 16,\n",
       "        17, 18, 19, 20, 21, 22, 23, 24, 25, 26, 27, 28, 29, 30, 31, 32, 33,\n",
       "        34, 35, 36, 37, 38, 39, 40, 41, 42, 43, 44, 45, 46, 47, 48, 49, 50,\n",
       "        51]),\n",
       " <a list of 52 Text major ticklabel objects>)"
      ]
     },
     "execution_count": 77,
     "metadata": {},
     "output_type": "execute_result"
    },
    {
     "data": {
      "image/png": "[encoded data removed]",
      "text/plain": [
       "<Figure size 1080x1152 with 1 Axes>"
      ]
     },
     "metadata": {
      "needs_background": "light"
     },
     "output_type": "display_data"
    }
   ],
   "source": [
    "plt.figure(figsize=(15,16))\n",
    "sns.countplot(x='Year Built', data=df, order = df['Year Built'].value_counts().index) \n",
    "plt.xticks(rotation=-90)"
   ]
  },
  {
   "cell_type": "markdown",
   "metadata": {},
   "source": [
    "When looking at developments built over the years, we can see some patterns emerging. The most condos were built in the 1970's (1976 and 1974), suggesting a building boom. This remains consistent with my research indicating that the 1970's was when condos replaced single family homes in Honolulu, with the most amount of developments occuring between 1960 - 1980. \n",
    "\n",
    "We see the next boom around the 2000's, with five new developments coming in 2022. This is largely driven by the Howard Hughes Corporation's Ward Village. Kakaako is now considered the epicenter of development in Honolulu and it is spreading to neighboring areas, such as Ala Moana where we are seeing most of the newer developments that are either under construction or in the planning process."
   ]
  },
  {
   "cell_type": "code",
   "execution_count": null,
   "metadata": {},
   "outputs": [],
   "source": []
  }
 ],
 "metadata": {
  "kernelspec": {
   "display_name": "Info_Viz",
   "language": "python",
   "name": "info_viz"
  },
  "language_info": {
   "codemirror_mode": {
    "name": "ipython",
    "version": 3
   },
   "file_extension": ".py",
   "mimetype": "text/x-python",
   "name": "python",
   "nbconvert_exporter": "python",
   "pygments_lexer": "ipython3",
   "version": "3.7.7"
  }
 },
 "nbformat": 4,
 "nbformat_minor": 4
}
